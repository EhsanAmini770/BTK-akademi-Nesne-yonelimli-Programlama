{
 "cells": [
  {
   "cell_type": "code",
   "execution_count": 1,
   "metadata": {},
   "outputs": [
    {
     "name": "stdout",
     "output_type": "stream",
     "text": [
      "Person Info:\n",
      "Name: John, Age: 30\n",
      "\n",
      "Student Info:\n",
      "Name: Alice, Age: 20\n",
      "Student Number: 12345\n",
      "\n",
      "Teacher Info:\n",
      "Name: Mr. Smith, Age: 40\n",
      "Teaches: Mathematics\n"
     ]
    }
   ],
   "source": [
    "class Person:\n",
    "    def __init__(self, name, age):\n",
    "        self.name = name\n",
    "        self.age = age\n",
    "\n",
    "    def display_info(self):\n",
    "        print(f\"Name: {self.name}, Age: {self.age}\")\n",
    "\n",
    "\n",
    "class Student(Person):\n",
    "    def __init__(self, name, age, student_number):\n",
    "        super().__init__(name, age)\n",
    "        self.student_number = student_number\n",
    "\n",
    "    def display_info(self):\n",
    "        super().display_info()\n",
    "        print(f\"Student Number: {self.student_number}\")\n",
    "\n",
    "\n",
    "class Teacher(Person):\n",
    "    def __init__(self, name, age, taught_subject):\n",
    "        super().__init__(name, age)\n",
    "        self.taught_subject = taught_subject\n",
    "\n",
    "    def display_info(self):\n",
    "        super().display_info()\n",
    "        print(f\"Teaches: {self.taught_subject}\")\n",
    "\n",
    "\n",
    "# Create objects\n",
    "person = Person(\"John\", 30)\n",
    "student = Student(\"Alice\", 20, 12345)\n",
    "teacher = Teacher(\"Mr. Smith\", 40, \"Mathematics\")\n",
    "\n",
    "# Display information\n",
    "print(\"Person Info:\")\n",
    "person.display_info()\n",
    "\n",
    "print(\"\\nStudent Info:\")\n",
    "student.display_info()\n",
    "\n",
    "print(\"\\nTeacher Info:\")\n",
    "teacher.display_info()\n"
   ]
  }
 ],
 "metadata": {
  "kernelspec": {
   "display_name": "Python 3",
   "language": "python",
   "name": "python3"
  },
  "language_info": {
   "codemirror_mode": {
    "name": "ipython",
    "version": 3
   },
   "file_extension": ".py",
   "mimetype": "text/x-python",
   "name": "python",
   "nbconvert_exporter": "python",
   "pygments_lexer": "ipython3",
   "version": "3.11.5"
  }
 },
 "nbformat": 4,
 "nbformat_minor": 2
}
