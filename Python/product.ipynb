{
 "cells": [
  {
   "cell_type": "code",
   "execution_count": 24,
   "metadata": {},
   "outputs": [],
   "source": [
    "from datetime import datetime as datetime\n",
    "class Product:\n",
    "    def __init__(self, name:str=\"No name\", price:float=0, quantity:int=0):\n",
    "        print(f\"An instance with name: {name} has been derived from Product class at {datetime.now()}.\")\n",
    "\n",
    "        self.__name = name\n",
    "        self.__price = price\n",
    "        self.__quantity = quantity\n",
    "\n",
    "        #ASk the teacher about this problem. while the name, price \n",
    "        #and quantity are private the ValueError is not working.\n",
    "        self.name = name\n",
    "        self.price = price\n",
    "        self.quantity = quantity\n",
    "\n",
    "\n",
    "    @property\n",
    "    def name(self) -> str:\n",
    "        return self.__name\n",
    "    @name.setter\n",
    "    def name(self, value) -> None:\n",
    "        if 3 <= len(value) <= 8:\n",
    "            self.__name = value\n",
    "        else:\n",
    "            raise ValueError(\"Name must be between 3 and 8 characters.\")\n",
    "\n",
    "\n",
    "    @property\n",
    "    def price(self) -> float:\n",
    "        return self.__price\n",
    "    @price.setter\n",
    "    def price(self, price) -> float:\n",
    "        if float(price) >= 0:\n",
    "            self.__price = price\n",
    "        else:\n",
    "            raise ValueError(\"Price must be at least 0.\")\n",
    "\n",
    "    @property\n",
    "    def quantity(self) -> int:\n",
    "        return self.__quantity\n",
    "    @quantity.setter\n",
    "    def quantity(self, value) -> int:\n",
    "        if int(value) >= 1:\n",
    "            self.__quantity = value\n",
    "        else:\n",
    "            raise ValueError(\"Quantity must be at least 1.\")\n",
    "\n",
    "\n",
    "    def getTotalPrice(self) -> float:\n",
    "        totalPrice = self.__price * self.__quantity\n",
    "        return f\"the total price of {self.__name} is {totalPrice}\"\n",
    "\n",
    "    def __repr__(self):\n",
    "        return f\"{self.__name} - {self.__price} - {self.__quantity}\""
   ]
  },
  {
   "cell_type": "code",
   "execution_count": 26,
   "metadata": {},
   "outputs": [
    {
     "name": "stdout",
     "output_type": "stream",
     "text": [
      "An instance with name: Apple has been derived from Product class at 2023-10-15 14:22:49.964708.\n",
      "Apple - 1200 - 10\n"
     ]
    },
    {
     "data": {
      "text/plain": [
       "'the total price of Apple is 12000'"
      ]
     },
     "execution_count": 26,
     "metadata": {},
     "output_type": "execute_result"
    }
   ],
   "source": [
    "item1 = Product(\"Apple\", 1200, 10) \n",
    "print(item1)\n",
    "item1.getTotalPrice()\n"
   ]
  }
 ],
 "metadata": {
  "kernelspec": {
   "display_name": "Python 3",
   "language": "python",
   "name": "python3"
  },
  "language_info": {
   "codemirror_mode": {
    "name": "ipython",
    "version": 3
   },
   "file_extension": ".py",
   "mimetype": "text/x-python",
   "name": "python",
   "nbconvert_exporter": "python",
   "pygments_lexer": "ipython3",
   "version": "3.11.5"
  }
 },
 "nbformat": 4,
 "nbformat_minor": 2
}
