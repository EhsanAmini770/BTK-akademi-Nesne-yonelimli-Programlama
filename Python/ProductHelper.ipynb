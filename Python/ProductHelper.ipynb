{
 "cells": [
  {
   "cell_type": "code",
   "execution_count": 26,
   "metadata": {},
   "outputs": [
    {
     "name": "stdout",
     "output_type": "stream",
     "text": [
      "An instance with name: Apple has been derived from Product class at 2023-10-15 14:21:39.654189.\n",
      "Apple - 1200 - 10\n",
      "An instance with name: Computer has been derived from Product class at 2023-10-15 14:21:39.655322.\n",
      "An instance with name: Laptop has been derived from Product class at 2023-10-15 14:21:39.655322.\n",
      "An instance with name: Airpods has been derived from Product class at 2023-10-15 14:21:39.655322.\n",
      "An instance with name: Smart Phone has been derived from Product class at 2023-10-15 14:21:39.655322.\n",
      "An instance with name: Smart Watch has been derived from Product class at 2023-10-15 14:21:39.655322.\n",
      "Total Balance with VAT: $39600.00\n"
     ]
    }
   ],
   "source": [
    "%run product.ipynb\n",
    "class ProductHelper:\n",
    "    \n",
    "    @staticmethod\n",
    "    def create_item_from_text(line):\n",
    "        try:\n",
    "            parts = line.strip().split(',')\n",
    "            if len(parts) >= 3:\n",
    "                name = parts[1].strip()\n",
    "                price = float(parts[2].strip())\n",
    "                quantity = int(parts[3].strip())\n",
    "                return Product(name, price, quantity)\n",
    "            else:\n",
    "                raise ValueError(\"Invalid data format\")\n",
    "        except (ValueError, IndexError):\n",
    "            return None  # Invalid data, handle accordingly\n",
    "\n",
    "\n",
    "    @staticmethod\n",
    "    def get_total_balance(product_list):\n",
    "        total_balance = 0\n",
    "        for product in product_list:\n",
    "            total_balance += product.price * product.quantity\n",
    "\n",
    "        total_balance_with_kdv = total_balance + (total_balance * 0.20)  # Add 20% VAT\n",
    "        return total_balance_with_kdv\n",
    "\n",
    "# Example usage\n",
    "if __name__ == '__main__':\n",
    "    # Read from a text file and create Product objects\n",
    "    products = []\n",
    "    try:\n",
    "        with open('products.txt', 'r') as file:\n",
    "            for line in file:\n",
    "                product = ProductHelper.create_item_from_text(line)\n",
    "                if product:\n",
    "                    products.append(product)\n",
    "    except FileNotFoundError:\n",
    "        print(\"File 'products.txt' not found.\")\n",
    "    except Exception as e:\n",
    "        print(f\"An error occurred: {e}\")\n",
    "\n",
    "    if products:\n",
    "        # Calculate the total balance with VAT\n",
    "        total_balance = ProductHelper.get_total_balance(products)\n",
    "        print(f'Total Balance with VAT: ${total_balance:.2f}')\n",
    "    else:\n",
    "        print(\"No products were loaded.\")"
   ]
  }
 ],
 "metadata": {
  "kernelspec": {
   "display_name": "Python 3",
   "language": "python",
   "name": "python3"
  },
  "language_info": {
   "codemirror_mode": {
    "name": "ipython",
    "version": 3
   },
   "file_extension": ".py",
   "mimetype": "text/x-python",
   "name": "python",
   "nbconvert_exporter": "python",
   "pygments_lexer": "ipython3",
   "version": "3.11.5"
  }
 },
 "nbformat": 4,
 "nbformat_minor": 2
}
